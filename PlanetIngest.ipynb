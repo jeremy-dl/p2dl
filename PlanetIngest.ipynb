{
 "cells": [
  {
   "cell_type": "code",
   "execution_count": null,
   "metadata": {},
   "outputs": [],
   "source": [
    "from p2dl import IngestJob, AssetType, ItemType\n",
    "API_KEY = \"PLANET_API_KEY\"\n",
    "aoi = {\n",
    "        \"type\": \"Polygon\",\n",
    "        \"coordinates\": [\n",
    "          [\n",
    "            [\n",
    "              -72.73206710815428,\n",
    "              43.392387651929866\n",
    "            ],\n",
    "            [\n",
    "              -72.73112297058105,\n",
    "              43.39001753650862\n",
    "            ],\n",
    "            [\n",
    "              -72.7291488647461,\n",
    "              43.38964329928522\n",
    "            ],\n",
    "            [\n",
    "              -72.72811889648436,\n",
    "              43.391202605805\n",
    "            ],\n",
    "            [\n",
    "              -72.72820472717285,\n",
    "              43.39301135110949\n",
    "            ],\n",
    "            [\n",
    "              -72.73086547851562,\n",
    "              43.39313609017517\n",
    "            ],\n",
    "            [\n",
    "              -72.73206710815428,\n",
    "              43.392387651929866\n",
    "            ]\n",
    "          ]\n",
    "        ]\n",
    "      }\n",
    "job = IngestJob(\n",
    "    aoi, \n",
    "    start_datetime='2019-09-28',\n",
    "    end_datetime='2019-10-10',\n",
    "    asset_type= AssetType.analytic, \n",
    "    item_type= ItemType.PSScene4Band, \n",
    "    product_id='planet:pss4:analytic', # product ID to create or write into on the DL Platform\n",
    "    api_key=API_KEY\n",
    ")"
   ]
  }
 ],
 "metadata": {
  "kernelspec": {
   "display_name": "Python 3",
   "language": "python",
   "name": "python3"
  },
  "language_info": {
   "codemirror_mode": {
    "name": "ipython",
    "version": 3
   },
   "file_extension": ".py",
   "mimetype": "text/x-python",
   "name": "python",
   "nbconvert_exporter": "python",
   "pygments_lexer": "ipython3",
   "version": "3.7.3"
  }
 },
 "nbformat": 4,
 "nbformat_minor": 4
}
